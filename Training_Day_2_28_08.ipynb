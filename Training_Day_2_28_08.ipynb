{
  "nbformat": 4,
  "nbformat_minor": 0,
  "metadata": {
    "colab": {
      "provenance": [],
      "authorship_tag": "ABX9TyMH0ZbVT6uZH1Z5iMp4qjXr",
      "include_colab_link": true
    },
    "kernelspec": {
      "name": "python3",
      "display_name": "Python 3"
    },
    "language_info": {
      "name": "python"
    }
  },
  "cells": [
    {
      "cell_type": "markdown",
      "metadata": {
        "id": "view-in-github",
        "colab_type": "text"
      },
      "source": [
        "<a href=\"https://colab.research.google.com/github/shubhekkumar/python-programming/blob/main/Training_Day_2_28_08.ipynb\" target=\"_parent\"><img src=\"https://colab.research.google.com/assets/colab-badge.svg\" alt=\"Open In Colab\"/></a>"
      ]
    },
    {
      "cell_type": "code",
      "execution_count": null,
      "metadata": {
        "colab": {
          "base_uri": "https://localhost:8080/"
        },
        "id": "S4JQNWAjb_y5",
        "outputId": "a417dbca-8b0d-4824-a4a5-317afaf8285f"
      },
      "outputs": [
        {
          "output_type": "stream",
          "name": "stdout",
          "text": [
            "I'm going to inject 33 text ,some text.\n"
          ]
        }
      ],
      "source": [
        "x=33\n",
        "y = 'some'\n",
        "print(\"I'm going to inject %d text ,%s text.\"%(x,y))"
      ]
    },
    {
      "cell_type": "code",
      "source": [
        "player = 'sam'\n",
        "points = 45\n",
        "'Last night '+ player +' scored '+ str(points) + ' points'"
      ],
      "metadata": {
        "colab": {
          "base_uri": "https://localhost:8080/",
          "height": 35
        },
        "id": "nLmz9BWqcQDJ",
        "outputId": "d614309b-938d-4221-be6c-9513908eb765"
      },
      "execution_count": null,
      "outputs": [
        {
          "output_type": "execute_result",
          "data": {
            "text/plain": [
              "'Last night sam scored 45 points'"
            ],
            "application/vnd.google.colaboratory.intrinsic+json": {
              "type": "string"
            }
          },
          "metadata": {},
          "execution_count": 2
        }
      ]
    },
    {
      "cell_type": "code",
      "source": [
        "# %s and %r changes any value to string\n",
        "print('He is so smart and %s . ' %'INTELLIGENT')\n",
        "print('He is ugly and %r . ' %'BAD')"
      ],
      "metadata": {
        "colab": {
          "base_uri": "https://localhost:8080/"
        },
        "id": "iZZppcnEcWmB",
        "outputId": "935fbeac-c89e-4a2b-d538-415855f97d0e"
      },
      "execution_count": null,
      "outputs": [
        {
          "output_type": "stream",
          "name": "stdout",
          "text": [
            "He is so smart and INTELLIGENT . \n",
            "He is ugly and 'BAD' . \n"
          ]
        }
      ]
    },
    {
      "cell_type": "code",
      "source": [
        "print('I once caught a fish %s.' %'this \\t big')\n",
        "print('I once caught a fish %r.' %'this big')\n"
      ],
      "metadata": {
        "colab": {
          "base_uri": "https://localhost:8080/"
        },
        "id": "3mXR7--8clYn",
        "outputId": "2c81c932-837d-4359-afbc-6da1028157ea"
      },
      "execution_count": null,
      "outputs": [
        {
          "output_type": "stream",
          "name": "stdout",
          "text": [
            "I once caught a fish this \t big.\n",
            "I once caught a fish 'this big'.\n"
          ]
        }
      ]
    },
    {
      "cell_type": "code",
      "source": [
        "print('I wrote %s programs Today.' %100.25)\n",
        "print('I wrote %d programs Today.' %100.25)\n",
        "print('I wrote %r programs Today.' %100.25)\n"
      ],
      "metadata": {
        "colab": {
          "base_uri": "https://localhost:8080/"
        },
        "id": "8So4jA4KdC_b",
        "outputId": "c6ad743d-c768-44d1-c61f-e99032355f06"
      },
      "execution_count": null,
      "outputs": [
        {
          "output_type": "stream",
          "name": "stdout",
          "text": [
            "I wrote 100.25 programs Today.\n",
            "I wrote 100 programs Today.\n",
            "I wrote 100.25 programs Today.\n"
          ]
        }
      ]
    },
    {
      "cell_type": "code",
      "source": [
        "print('Floating point numbers : %5.2f' % (13.144))\n",
        "print('Floating point numbers : %1.0f' % (13.144))\n",
        "print('Floating point numbers : %1.5f' % (13.144))\n",
        "print('Floating point numbers : %5.9f' % (13.144)) #After 5.9999 white spaces will be included\n",
        "print('Floating point numbers : %6.1f' % (13.144))\n",
        "print('Floating point numbers : %8.2f'% (13.144))"
      ],
      "metadata": {
        "colab": {
          "base_uri": "https://localhost:8080/"
        },
        "id": "25pAV-r1dou3",
        "outputId": "81c11ce5-9962-4264-a6cc-f36ba03be665"
      },
      "execution_count": null,
      "outputs": [
        {
          "output_type": "stream",
          "name": "stdout",
          "text": [
            "Floating point numbers : 13.14\n",
            "Floating point numbers : 13\n",
            "Floating point numbers : 13.14400\n",
            "Floating point numbers : 13.144000000\n",
            "Floating point numbers :   13.1\n",
            "Floating point numbers :    13.14\n"
          ]
        }
      ]
    },
    {
      "cell_type": "code",
      "source": [
        "# Multiple formating\n",
        "print('first %s , Second : %5.2f,Third:%r' %('Hi!',3.14241,'Bye!'))"
      ],
      "metadata": {
        "colab": {
          "base_uri": "https://localhost:8080/"
        },
        "id": "rZog3iusg-6Q",
        "outputId": "c21caee9-63d1-44b2-9fa7-0f1019c198f6"
      },
      "execution_count": null,
      "outputs": [
        {
          "output_type": "stream",
          "name": "stdout",
          "text": [
            "first Hi! , Second :  3.14,Third:'Bye!'\n"
          ]
        }
      ]
    },
    {
      "cell_type": "code",
      "source": [
        "# .format() method :- used to format object into string for print statement is with string.format()\n",
        "print('This is string with an {}'.format('insert'))\n",
        "# Inserted object can be called by index position\n",
        "print(\"The {1} {2} {0} {3}\" .format('fox','quick','brown','jumps'))\n",
        "print(\"The {1} {2} {0} {4} {3} {5}\" .format('fox',23,'brown',5.562,'jumps','feet'))\n"
      ],
      "metadata": {
        "colab": {
          "base_uri": "https://localhost:8080/"
        },
        "id": "W_-NpTxThtJA",
        "outputId": "4aec4e54-6a1d-494d-e497-e64de44c168e"
      },
      "execution_count": null,
      "outputs": [
        {
          "output_type": "stream",
          "name": "stdout",
          "text": [
            "This is string with an insert\n",
            "The quick brown fox jumps\n",
            "The 23 brown fox jumps 5.562 feet\n"
          ]
        }
      ]
    },
    {
      "cell_type": "code",
      "source": [
        "#inserted object can be assigned keywoard\n",
        "print('First Object :{a} Second Object :{b} Third Object :{c} '.format(a= 1, b = 'Two' , c = 203.25))\n",
        "#inserted object can be reused avoiding duplication\n",
        "print('A %s saved is a %s earned' %('penny' , 'penny'))\n",
        "#vs\n",
        "print('A {p} saved is a {p} earned' .format(p ='penny'))"
      ],
      "metadata": {
        "colab": {
          "base_uri": "https://localhost:8080/"
        },
        "id": "nfMboPa3koHy",
        "outputId": "59e3f242-e609-4aa2-cc42-d415cfd5c8a6"
      },
      "execution_count": null,
      "outputs": [
        {
          "output_type": "stream",
          "name": "stdout",
          "text": [
            "First Object :1 Second Object :Two Third Object :203.25 \n",
            "A penny saved is a penny earned\n",
            "A penny saved is a penny earned\n"
          ]
        }
      ]
    },
    {
      "cell_type": "code",
      "source": [
        "#Allignment padding and precision with format\n",
        "print('{0:8} | {1:9}'.format('fruits','Quantity'))\n",
        "print('{0:8} | {1:9}'.format('Apple', 3.))\n",
        "print('{0:8} | {1:9}'.format('Orange', 10))"
      ],
      "metadata": {
        "colab": {
          "base_uri": "https://localhost:8080/"
        },
        "id": "6hpVASmuq32A",
        "outputId": "8b9ff986-f7a7-4af5-b516-399831bb4d4b"
      },
      "execution_count": null,
      "outputs": [
        {
          "output_type": "stream",
          "name": "stdout",
          "text": [
            "fruits   | Quantity \n",
            "Apple    |       3.0\n",
            "Orange   |        10\n"
          ]
        }
      ]
    },
    {
      "cell_type": "code",
      "source": [
        "print('{0:=<8} | {1:-^8} | {2:.>8}'.format('Left','Center','Right'))\n",
        "print('{0:=<8} | {1:-^8} | {2:.>8}'.format(11,22,33))\n",
        "print('{0:<8} | {1:^8} | {2:>8}'.format(100.0,200.50,300.560))"
      ],
      "metadata": {
        "colab": {
          "base_uri": "https://localhost:8080/"
        },
        "id": "BG40sa0Zv4NS",
        "outputId": "54d7cd8b-1b6c-4515-9126-af31dc143506"
      },
      "execution_count": null,
      "outputs": [
        {
          "output_type": "stream",
          "name": "stdout",
          "text": [
            "Left==== | -Center- | ...Right\n",
            "11====== | ---22--- | ......33\n",
            "100.0    |  200.5   |   300.56\n"
          ]
        }
      ]
    },
    {
      "cell_type": "code",
      "source": [
        "print('This is ten character 2 decimal number : %10.2f'%13.679)\n",
        "print('This is ten character 2 decimal number : {0:10.2f}'.format(13.679))\n",
        "print('This is ten character 2 decimal number : {0:10.0f}'.format(13.679))\n"
      ],
      "metadata": {
        "colab": {
          "base_uri": "https://localhost:8080/"
        },
        "id": "CGQpnVi43-9l",
        "outputId": "67bf1aab-f2c3-4156-8f91-e8517ac7fd08"
      },
      "execution_count": null,
      "outputs": [
        {
          "output_type": "stream",
          "name": "stdout",
          "text": [
            "This is ten character 2 decimal number :      13.68\n",
            "This is ten character 2 decimal number :      13.68\n",
            "This is ten character 2 decimal number :         14\n"
          ]
        }
      ]
    }
  ]
}